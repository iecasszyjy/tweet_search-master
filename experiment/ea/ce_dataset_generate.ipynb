{
 "cells": [
  {
   "cell_type": "code",
   "execution_count": 2,
   "metadata": {
    "collapsed": true
   },
   "outputs": [],
   "source": [
    "from datetime import datetime,timedelta\n",
    "from collections import defaultdict,Counter\n",
    "from pprint import pprint\n",
    "from tqdm import tqdm\n",
    "import re\n",
    "\n",
    "import pymongo\n",
    "from pymongo import InsertOne, DeleteMany, ReplaceOne, UpdateOne\n",
    "from pymongo.errors import BulkWriteError"
   ]
  },
  {
   "cell_type": "code",
   "execution_count": 3,
   "metadata": {
    "collapsed": true
   },
   "outputs": [],
   "source": [
    "client = pymongo.MongoClient('localhost:27017')\n",
    "db = client.tweet"
   ]
  },
  {
   "cell_type": "code",
   "execution_count": 4,
   "metadata": {
    "collapsed": true
   },
   "outputs": [],
   "source": [
    "import pandas as pd\n",
    "import spacy"
   ]
  },
  {
   "cell_type": "code",
   "execution_count": 13,
   "metadata": {
    "collapsed": true
   },
   "outputs": [],
   "source": [
    "nlp = spacy.load('en_core_web_md')"
   ]
  },
  {
   "cell_type": "code",
   "execution_count": 108,
   "metadata": {
    "collapsed": true
   },
   "outputs": [],
   "source": [
    "events = [e for e in db.current_event.find({'event.date':{'$gt':'2010-09-01','$lt':'2010-09-03'}},{'_id':1,'abstracts':1,'type':1})]"
   ]
  },
  {
   "cell_type": "code",
   "execution_count": 109,
   "metadata": {
    "collapsed": false
   },
   "outputs": [
    {
     "name": "stdout",
     "output_type": "stream",
     "text": [
      "{'_id': ObjectId('59fbc9fa60b18848c5a4d4e4'), 'type': 1, 'abstracts': [{'media': ['BBC', 'Reuters'], 'abstract': '10 civilians are killed and 2 others are wounded after being struck by NATO during an election campaign in Rostaq, Afghanistan. Originally, a spokesman had said a \"precision air strike\" had hit a militant vehicle.'}]}\n",
      "{'_id': ObjectId('59fbc9fa60b18848c5a4d4e5'), 'type': 1, 'abstracts': [{'media': ['YNet News'], 'abstract': 'Palestinians stone an Israeli car travelling through the West Bank resulting in a 12-year-old being injured.'}]}\n",
      "{'_id': ObjectId('59fbc9fa60b18848c5a4d4e6'), 'type': 1, 'abstracts': [{'media': ['BBC'], 'abstract': 'The Mexican Army claims to have killed 25 drug cartel gunmen in a clash in Tamaulipas state near the United States border.'}]}\n",
      "{'_id': ObjectId('59fbc9fa60b18848c5a4d4e7'), 'type': 2, 'abstracts': [{'media': ['BBC'], 'abstract': 'Permanent Representative of Pakistan to the United Nations Hussain Haroon calls for an inquiry after allegations emerge of Pakistani floodwaters being diverted into vulnerable villages in a bid to preserve crops.'}]}\n",
      "{'_id': ObjectId('59fbc9fa60b18848c5a4d4e8'), 'type': 2, 'abstracts': [{'media': ['Straits Times'], 'abstract': \"Severe Tropical Storm Lionrock lands in China's Fujian province with warnings of strong winds and torrential rains.\"}, {'media': ['Straits Times', 'AP via Sign On San Diego'], 'abstract': 'Typhoon Kompasu (Glenda) hits South Korea resulting in three deaths and leading to cancellation of flights and school classes.'}]}\n",
      "{'_id': ObjectId('59fbc9fa60b18848c5a4d4e9'), 'type': 2, 'abstracts': [{'media': ['AP via Washington Post', 'Reuters'], 'abstract': 'A tropical storm warning is issued for the coast of Long Island in New York as Hurricane Earl approaches the east coast of the United States.'}, {'media': ['Bloomberg'], 'abstract': 'A state of emergency is declared in the states of North Carolina and Virginia.'}]}\n",
      "{'_id': ObjectId('59fbc9fa60b18848c5a4d4ea'), 'type': 2, 'abstracts': [{'media': ['AP'], 'abstract': 'An oil rig explodes in the Gulf of Mexico, west of the Deepwater Horizon oil rig that exploded in April, killing no people.'}]}\n",
      "{'_id': ObjectId('59fbc9fa60b18848c5a4d4eb'), 'type': 5, 'abstracts': [{'media': ['Jerusalem Post'], 'abstract': 'Lebanon requests an Interpol arrest warrant for Ghassan al-Jidd, a former General in the Lebanese Army who allegedly spied for the Mossad.'}]}\n",
      "{'_id': ObjectId('59fbc9fa60b18848c5a4d4ec'), 'type': 3, 'abstracts': [{'media': ['Al Jazeera', 'RFI'], 'abstract': 'At least 17 migrants are kidnapped by suspected human traffickers in Tijuana, Baja California, in northwestern Mexico.'}]}\n",
      "{'_id': ObjectId('59fbc9fa60b18848c5a4d4ed'), 'type': 3, 'abstracts': [{'media': ['AP', 'Reuters Africa'], 'abstract': 'Price riots continue in Mozambique, leaving a further four people dead.'}]}\n",
      "{'_id': ObjectId('59fbc9fa60b18848c5a4d4ee'), 'type': 3, 'abstracts': [{'media': ['BBC', 'Latin American Herald Tribune'], 'abstract': 'Police in Brazil arrest almost the entire council in the city of Dourados, Mato Grosso do Sul, on suspicion of fraud and corruption, leaving the city without a government.'}]}\n",
      "{'_id': ObjectId('59fbc9fa60b18848c5a4d4ef'), 'type': 3, 'abstracts': [{'media': ['BBC'], 'abstract': 'Figures show that at least 2,000 British police officers had 3 or more complaints made against them in 2009-10.'}]}\n",
      "{'_id': ObjectId('59fbc9fa60b18848c5a4d4f0'), 'type': 4, 'abstracts': [{'media': ['SBS'], 'abstract': 'Independent Member of the Australian House of Representatives Andrew Wilkie announces that he will support the Gillard Labor Government on supply and confidence.'}]}\n",
      "{'_id': ObjectId('59fbc9fa60b18848c5a4d4f1'), 'type': 4, 'abstracts': [{'media': ['New York Times'], 'abstract': 'BP warns the United States Congress that it might not be able to pay compensation for the Deepwater Horizon oil spill if it is barred from getting new offshore drilling permits.'}]}\n",
      "{'_id': ObjectId('59fbc9fa60b18848c5a4d4f2'), 'type': 4, 'abstracts': [{'media': ['AFP via Google News'], 'abstract': 'Sebastian Vlădescu is replaced as Romanian Minister of Finance by Gheorghe Ialomitianu as part of a Cabinet reshuffle.'}]}\n",
      "{'_id': ObjectId('59fbc9fa60b18848c5a4d4f3'), 'type': 9, 'abstracts': [{'media': ['BBC Sport', 'Sky News'], 'abstract': \"Pakistan's high commissioner Wajid Shamsul Hasan says 3 of his country's cricketers connected to allegations of betting corruption by the News of the World tabloid could have been set up.\"}, {'media': ['AFP via ABC Online'], 'abstract': 'The International Cricket Council charges Pakistan captain Salman Butt and fast bowlers Mohammad Aamer and Mohammad Asif with corruption offences and provisionally suspends them from international cricket pending hearings.'}]}\n"
     ]
    }
   ],
   "source": [
    "for i in events:\n",
    "    print(i)"
   ]
  },
  {
   "cell_type": "raw",
   "metadata": {
    "collapsed": true
   },
   "source": [
    "events = [{'id':e['_id'],'class':e['event']['class'],'date':e['event']['date'],'title':e['event']['title'],'description':e['event']['description']} for e in events]"
   ]
  },
  {
   "cell_type": "raw",
   "metadata": {
    "collapsed": true
   },
   "source": [
    "df_events = pd.DataFrame.from_records(events)"
   ]
  },
  {
   "cell_type": "raw",
   "metadata": {
    "collapsed": false
   },
   "source": [
    "df_events.head()"
   ]
  },
  {
   "cell_type": "raw",
   "metadata": {
    "collapsed": false
   },
   "source": [
    "df_events.iloc[0]['id']"
   ]
  },
  {
   "cell_type": "code",
   "execution_count": 110,
   "metadata": {
    "collapsed": false
   },
   "outputs": [
    {
     "data": {
      "text/plain": [
       "{'_id': ObjectId('59fbc9fa60b18848c5a4d4e4'),\n",
       " 'abstracts': [{'abstract': '10 civilians are killed and 2 others are wounded after being struck by NATO during an election campaign in Rostaq, Afghanistan. Originally, a spokesman had said a \"precision air strike\" had hit a militant vehicle.',\n",
       "   'media': ['BBC', 'Reuters']}],\n",
       " 'type': 1}"
      ]
     },
     "execution_count": 110,
     "metadata": {},
     "output_type": "execute_result"
    }
   ],
   "source": [
    "events[0]"
   ]
  },
  {
   "cell_type": "code",
   "execution_count": 111,
   "metadata": {
    "collapsed": false
   },
   "outputs": [
    {
     "data": {
      "text/plain": [
       "'Seven people are killed and 13 are injured after suicide bombers hit a state-run power station near the northern city of Samarra, Iraq. The Islamic State of Iraq and the Levant claims responsibility for the attack.'"
      ]
     },
     "execution_count": 111,
     "metadata": {},
     "output_type": "execute_result"
    }
   ],
   "source": [
    "abst"
   ]
  },
  {
   "cell_type": "code",
   "execution_count": 113,
   "metadata": {
    "collapsed": false
   },
   "outputs": [
    {
     "data": {
      "text/plain": [
       "'903363851781099522'"
      ]
     },
     "execution_count": 113,
     "metadata": {},
     "output_type": "execute_result"
    }
   ],
   "source": [
    "records"
   ]
  },
  {
   "cell_type": "raw",
   "metadata": {},
   "source": [
    "def standard_text_clean()"
   ]
  },
  {
   "cell_type": "raw",
   "metadata": {
    "collapsed": true
   },
   "source": [
    "def reference_similatity(event):\n",
    "    abst = ''.join([i['abstract'] for i in event['abstracts']])\n",
    "    doc_reference = nlp(abst)\n",
    "    print(abst)\n",
    "    tweets = []\n",
    "    filter_dict = {'event_id':events[0]['_id'],'tweet.lang':'en','tweet.media.card_url':{'$ne':None}}\n",
    "    query_dict = {'_id':1}\n",
    "    first_news_tweet_id  = min([i['_id'] for i in db.pos.find(filter_dict,query_dict).sort('_id').limit(1)]+[i['_id'] for i in db.paper.find(filter_dict,query_dict).sort('_id').limit(1)])\n",
    "    filter_dict = {'_id':{'$lt':first_news_tweet_id},'event_id':event['_id'],'tweet.lang':'en','tweet.media.card_url':None}\n",
    "    query_dict = {'tweet.standard_text':1,}\n",
    "    records  = [i for i in db.pos.find(filter_dict,query_dict)]+[i for i in db.paper.find(filter_dict,query_dict)]\n",
    "    print(len(records))\n",
    "    for tweet in records:\n",
    "        tweet_id = tweet['_id']\n",
    "        tweet_text = tweet['tweet']['standard_text'] \n",
    "        doc_tweet = nlp(tweet_text)\n",
    "        tweets.append((tweet_id,doc_reference.similarity(doc_tweet),tweet_text))\n",
    "    tweets = sorted(tweets,key=lambda x:x[1],reverse=True)\n",
    "    df_candidate = pd.DataFrame.from_records(tweets,index=range(len(tweets)),columns=['id','simi','text'])\n",
    "    df_candidate = df_candidate.drop_duplicates(['simi'])\n",
    "    return df_candidate['']"
   ]
  },
  {
   "cell_type": "code",
   "execution_count": 125,
   "metadata": {
    "collapsed": true
   },
   "outputs": [],
   "source": [
    "def reference_similatity(event):\n",
    "    abst = ''.join([i['abstract'] for i in event['abstracts']])\n",
    "    doc_reference = nlp(abst)\n",
    "    print(abst)\n",
    "    tweets = []\n",
    "    #filter_dict = {'event_id':events[0]['_id'],'tweet.lang':'en','tweet.media.card_url':{'$ne':None}}\n",
    "    #query_dict = {'_id':1}\n",
    "    #first_news_tweet_id  = min([i['_id'] for i in db.pos.find(filter_dict,query_dict).sort('_id').limit(1)]+[i['_id'] for i in db.paper.find(filter_dict,query_dict).sort('_id').limit(1)])\n",
    "    filter_dict = {'event_id':event['_id'],'tweet.lang':'en','tweet.media.card_url':None}\n",
    "    query_dict = {'tweet.standard_text':1}\n",
    "    records  = [i for i in db.pos.find(filter_dict,query_dict)]+[i for i in db.paper.find(filter_dict,query_dict)]\n",
    "    print(len(records))\n",
    "    for tweet in records:\n",
    "        tweet_id = tweet['_id']\n",
    "        tweet_text = tweet['tweet']['standard_text'] \n",
    "        doc_tweet = nlp(tweet_text)\n",
    "        tweets.append((tweet_id,doc_reference.similarity(doc_tweet),tweet_text))\n",
    "    tweets = sorted(tweets,key=lambda x:x[1],reverse=True)\n",
    "    df_candidate = pd.DataFrame.from_records(tweets,index=range(len(tweets)),columns=['id','simi','text'])\n",
    "    df_candidate = df_candidate.drop_duplicates(['simi'])\n",
    "    return df_candidate[df_candidate['simi'] > 0.75][:100]"
   ]
  },
  {
   "cell_type": "code",
   "execution_count": 128,
   "metadata": {
    "collapsed": false
   },
   "outputs": [
    {
     "data": {
      "text/plain": [
       "'a\\nb'"
      ]
     },
     "execution_count": 128,
     "metadata": {},
     "output_type": "execute_result"
    }
   ],
   "source": [
    "'\\n'.join(['a','b'])"
   ]
  },
  {
   "cell_type": "code",
   "execution_count": 126,
   "metadata": {
    "collapsed": false
   },
   "outputs": [
    {
     "data": {
      "text/html": [
       "<div>\n",
       "<table border=\"1\" class=\"dataframe\">\n",
       "  <thead>\n",
       "    <tr style=\"text-align: right;\">\n",
       "      <th></th>\n",
       "      <th>id</th>\n",
       "      <th>simi</th>\n",
       "      <th>text</th>\n",
       "    </tr>\n",
       "  </thead>\n",
       "  <tbody>\n",
       "    <tr>\n",
       "      <th>0</th>\n",
       "      <td>22805330372</td>\n",
       "      <td>0.962651</td>\n",
       "      <td>The three Pakistan cricketers accused of corru...</td>\n",
       "    </tr>\n",
       "    <tr>\n",
       "      <th>1</th>\n",
       "      <td>22840215879</td>\n",
       "      <td>0.946432</td>\n",
       "      <td>The International Cricket Council has suspende...</td>\n",
       "    </tr>\n",
       "    <tr>\n",
       "      <th>2</th>\n",
       "      <td>22838266153</td>\n",
       "      <td>0.942557</td>\n",
       "      <td>All three Pakistan cricketers accused of corru...</td>\n",
       "    </tr>\n",
       "  </tbody>\n",
       "</table>\n",
       "</div>"
      ],
      "text/plain": [
       "            id      simi                                               text\n",
       "0  22805330372  0.962651  The three Pakistan cricketers accused of corru...\n",
       "1  22840215879  0.946432  The International Cricket Council has suspende...\n",
       "2  22838266153  0.942557  All three Pakistan cricketers accused of corru..."
      ]
     },
     "execution_count": 126,
     "metadata": {},
     "output_type": "execute_result"
    }
   ],
   "source": [
    "x[:3]"
   ]
  },
  {
   "cell_type": "code",
   "execution_count": 127,
   "metadata": {
    "collapsed": false
   },
   "outputs": [
    {
     "name": "stdout",
     "output_type": "stream",
     "text": [
      "10 civilians are killed and 2 others are wounded after being struck by NATO during an election campaign in Rostaq, Afghanistan. Originally, a spokesman had said a \"precision air strike\" had hit a militant vehicle.\n",
      "155\n",
      "100\n",
      "Palestinians stone an Israeli car travelling through the West Bank resulting in a 12-year-old being injured.\n",
      "31\n",
      "19\n",
      "The Mexican Army claims to have killed 25 drug cartel gunmen in a clash in Tamaulipas state near the United States border.\n",
      "329\n",
      "100\n",
      "Permanent Representative of Pakistan to the United Nations Hussain Haroon calls for an inquiry after allegations emerge of Pakistani floodwaters being diverted into vulnerable villages in a bid to preserve crops.\n",
      "183\n",
      "100\n",
      "Severe Tropical Storm Lionrock lands in China's Fujian province with warnings of strong winds and torrential rains.Typhoon Kompasu (Glenda) hits South Korea resulting in three deaths and leading to cancellation of flights and school classes.\n",
      "143\n",
      "80\n",
      "A tropical storm warning is issued for the coast of Long Island in New York as Hurricane Earl approaches the east coast of the United States.A state of emergency is declared in the states of North Carolina and Virginia.\n",
      "554\n",
      "100\n",
      "An oil rig explodes in the Gulf of Mexico, west of the Deepwater Horizon oil rig that exploded in April, killing no people.\n",
      "382\n",
      "100\n",
      "Lebanon requests an Interpol arrest warrant for Ghassan al-Jidd, a former General in the Lebanese Army who allegedly spied for the Mossad.\n",
      "20\n",
      "15\n",
      "At least 17 migrants are kidnapped by suspected human traffickers in Tijuana, Baja California, in northwestern Mexico.\n",
      "29\n",
      "18\n",
      "Price riots continue in Mozambique, leaving a further four people dead.\n",
      "437\n",
      "100\n",
      "Police in Brazil arrest almost the entire council in the city of Dourados, Mato Grosso do Sul, on suspicion of fraud and corruption, leaving the city without a government.\n",
      "191\n",
      "100\n",
      "Figures show that at least 2,000 British police officers had 3 or more complaints made against them in 2009-10.\n",
      "539\n",
      "100\n",
      "Independent Member of the Australian House of Representatives Andrew Wilkie announces that he will support the Gillard Labor Government on supply and confidence.\n",
      "305\n",
      "100\n",
      "BP warns the United States Congress that it might not be able to pay compensation for the Deepwater Horizon oil spill if it is barred from getting new offshore drilling permits.\n",
      "330\n",
      "100\n",
      "Sebastian Vlădescu is replaced as Romanian Minister of Finance by Gheorghe Ialomitianu as part of a Cabinet reshuffle.\n",
      "66\n",
      "42\n",
      "Pakistan's high commissioner Wajid Shamsul Hasan says 3 of his country's cricketers connected to allegations of betting corruption by the News of the World tabloid could have been set up.The International Cricket Council charges Pakistan captain Salman Butt and fast bowlers Mohammad Aamer and Mohammad Asif with corruption offences and provisionally suspends them from international cricket pending hearings.\n",
      "677\n",
      "100\n"
     ]
    }
   ],
   "source": [
    "for i in events:\n",
    "    x = reference_similatity(i)\n",
    "    print(len(x))"
   ]
  },
  {
   "cell_type": "code",
   "execution_count": null,
   "metadata": {
    "collapsed": true
   },
   "outputs": [],
   "source": []
  }
 ],
 "metadata": {
  "kernelspec": {
   "display_name": "Python 3",
   "language": "python",
   "name": "python3"
  },
  "language_info": {
   "codemirror_mode": {
    "name": "ipython",
    "version": 3
   },
   "file_extension": ".py",
   "mimetype": "text/x-python",
   "name": "python",
   "nbconvert_exporter": "python",
   "pygments_lexer": "ipython3",
   "version": "3.6.0"
  }
 },
 "nbformat": 4,
 "nbformat_minor": 2
}
