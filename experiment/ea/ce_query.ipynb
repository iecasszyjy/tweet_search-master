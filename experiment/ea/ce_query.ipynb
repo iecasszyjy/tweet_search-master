{
  "cells": [
    {
      "cell_type": "code",
      "source": [
        "from datetime import datetime,timedelta\n",
        "from collections import defaultdict,Counter\n",
        "from pprint import pprint\n",
        "from tqdm import tqdm\n",
        "import re\n",
        "\n",
        "import pymongo\n",
        "from pymongo import InsertOne, DeleteMany, ReplaceOne, UpdateOne\n",
        "from pymongo.errors import BulkWriteError"
      ],
      "outputs": [],
      "execution_count": 1,
      "metadata": {
        "collapsed": true
      }
    },
    {
      "cell_type": "code",
      "source": [
        "from nltk.corpus import stopwords"
      ],
      "outputs": [],
      "execution_count": 2,
      "metadata": {
        "collapsed": true
      }
    },
    {
      "cell_type": "code",
      "source": [
        "from sklearn.feature_extraction.text import CountVectorizer, TfidfTransformer\n",
        "import itertools"
      ],
      "outputs": [],
      "execution_count": 3,
      "metadata": {
        "collapsed": true
      }
    },
    {
      "cell_type": "code",
      "source": [
        "list_stopWords=list(set(stopwords.words('english')))"
      ],
      "outputs": [],
      "execution_count": 4,
      "metadata": {
        "collapsed": true
      }
    },
    {
      "cell_type": "code",
      "source": [
        "client = pymongo.MongoClient('localhost:27017')\n",
        "db = client.tweet"
      ],
      "outputs": [],
      "execution_count": 5,
      "metadata": {
        "collapsed": true
      }
    },
    {
      "cell_type": "code",
      "source": [
        "#db.authenticate('admin','lixiepeng')"
      ],
      "outputs": [],
      "execution_count": 6,
      "metadata": {
        "collapsed": false
      }
    },
    {
      "cell_type": "code",
      "source": [
        "import pandas as pd\n",
        "import spacy"
      ],
      "outputs": [],
      "execution_count": 7,
      "metadata": {
        "collapsed": true
      }
    },
    {
      "cell_type": "code",
      "source": [
        "nlp = spacy.load('en_core_web_md')"
      ],
      "outputs": [],
      "execution_count": 8,
      "metadata": {
        "collapsed": true,
        "scrolled": true
      }
    },
    {
      "cell_type": "code",
      "source": [
        "events = [e for e in db.current_event.find({},{'_id':1,'event.class':1,'event.date':1,'event.title':1,'event.description':1})]"
      ],
      "outputs": [],
      "execution_count": 9,
      "metadata": {
        "collapsed": true
      }
    },
    {
      "cell_type": "code",
      "source": [
        "events[0]"
      ],
      "outputs": [
        {
          "output_type": "execute_result",
          "execution_count": 10,
          "data": {
            "text/plain": [
              "{'_id': ObjectId('59fbc9fa60b18848c5a4ce5a'),\n",
              " 'event': {'class': 'Armed conflicts and attacks',\n",
              "  'date': '2010-07-01',\n",
              "  'description': 'In response to a rocket attack on southern Israel, Israeli airforce jets strike several targets in Gaza overnight, including Yasser Arafat International Airport, a weapons manufacturing facility and an infiltration tunnel into Israel. (Xinhua) (Arab News) (The Jerusalem Post)\\nEuropean Union High Representative of the Union for Foreign Affairs and Security Policy Catherine Ashton says the planned demolition of Palestinian houses in East Jerusalem for an archeological park and tourist center is \"an obstacle to peace\" and \"illegal under international law\". (Arab News) (Israel National News)\\nThe Methodist Church of Great Britain votes in Portsmouth to boycott Israeli-produced goods and services from the West Bank because of what it termed Israel\\'s \"illegal occupation of Palestinian lands\". (The Jerusalem Post)\\nUnited States Middle East envoy George J. Mitchell accuses Hamas of “unacceptable and inhuman behavior” with regard to captive soldier Gilad Shalit, held in isolation in Gaza for the last four years, and calls for his immediate release. (The Jerusalem Post)\\nThe son of a founding member of Hamas is granted asylum in the United States. (Aljazeera)',\n",
              "  'title': 'Israeli-Palestinian conflict'}}"
            ]
          },
          "metadata": {}
        }
      ],
      "execution_count": 10,
      "metadata": {
        "collapsed": false
      }
    },
    {
      "cell_type": "code",
      "source": [
        "events = [{'id':e['_id'],'class':e['event']['class'],'date':e['event']['date'],'title':e['event']['title'],'description':e['event']['description']} for e in events]"
      ],
      "outputs": [],
      "execution_count": 11,
      "metadata": {
        "collapsed": true
      }
    },
    {
      "cell_type": "code",
      "source": [
        "df_events = pd.DataFrame.from_records(events)"
      ],
      "outputs": [],
      "execution_count": 12,
      "metadata": {
        "collapsed": true
      }
    },
    {
      "cell_type": "code",
      "source": [
        "df_events.head()"
      ],
      "outputs": [
        {
          "output_type": "execute_result",
          "execution_count": 13,
          "data": {
            "text/html": [
              "<div>\n",
              "<table border=\"1\" class=\"dataframe\">\n",
              "  <thead>\n",
              "    <tr style=\"text-align: right;\">\n",
              "      <th></th>\n",
              "      <th>class</th>\n",
              "      <th>date</th>\n",
              "      <th>description</th>\n",
              "      <th>id</th>\n",
              "      <th>title</th>\n",
              "    </tr>\n",
              "  </thead>\n",
              "  <tbody>\n",
              "    <tr>\n",
              "      <th>0</th>\n",
              "      <td>Armed conflicts and attacks</td>\n",
              "      <td>2010-07-01</td>\n",
              "      <td>In response to a rocket attack on southern Isr...</td>\n",
              "      <td>59fbc9fa60b18848c5a4ce5a</td>\n",
              "      <td>Israeli-Palestinian conflict</td>\n",
              "    </tr>\n",
              "    <tr>\n",
              "      <th>1</th>\n",
              "      <td>Armed conflicts and attacks</td>\n",
              "      <td>2010-07-01</td>\n",
              "      <td>11 Kurdish, a soldier and three members of a K...</td>\n",
              "      <td>59fbc9fa60b18848c5a4ce5b</td>\n",
              "      <td></td>\n",
              "    </tr>\n",
              "    <tr>\n",
              "      <th>2</th>\n",
              "      <td>Armed conflicts and attacks</td>\n",
              "      <td>2010-07-01</td>\n",
              "      <td>At least 42 people are killed and at least 175...</td>\n",
              "      <td>59fbc9fa60b18848c5a4ce5c</td>\n",
              "      <td></td>\n",
              "    </tr>\n",
              "    <tr>\n",
              "      <th>3</th>\n",
              "      <td>Armed conflicts and attacks</td>\n",
              "      <td>2010-07-01</td>\n",
              "      <td>Somali President Sharif Ahmed joins Somali tro...</td>\n",
              "      <td>59fbc9fa60b18848c5a4ce5d</td>\n",
              "      <td></td>\n",
              "    </tr>\n",
              "    <tr>\n",
              "      <th>4</th>\n",
              "      <td>Arts and culture</td>\n",
              "      <td>2010-07-01</td>\n",
              "      <td>People take to the streets in Ottawa to celebr...</td>\n",
              "      <td>59fbc9fa60b18848c5a4ce5f</td>\n",
              "      <td></td>\n",
              "    </tr>\n",
              "  </tbody>\n",
              "</table>\n",
              "</div>"
            ],
            "text/plain": [
              "                         class        date  \\\n",
              "0  Armed conflicts and attacks  2010-07-01   \n",
              "1  Armed conflicts and attacks  2010-07-01   \n",
              "2  Armed conflicts and attacks  2010-07-01   \n",
              "3  Armed conflicts and attacks  2010-07-01   \n",
              "4             Arts and culture  2010-07-01   \n",
              "\n",
              "                                         description  \\\n",
              "0  In response to a rocket attack on southern Isr...   \n",
              "1  11 Kurdish, a soldier and three members of a K...   \n",
              "2  At least 42 people are killed and at least 175...   \n",
              "3  Somali President Sharif Ahmed joins Somali tro...   \n",
              "4  People take to the streets in Ottawa to celebr...   \n",
              "\n",
              "                         id                         title  \n",
              "0  59fbc9fa60b18848c5a4ce5a  Israeli-Palestinian conflict  \n",
              "1  59fbc9fa60b18848c5a4ce5b                                \n",
              "2  59fbc9fa60b18848c5a4ce5c                                \n",
              "3  59fbc9fa60b18848c5a4ce5d                                \n",
              "4  59fbc9fa60b18848c5a4ce5f                                "
            ]
          },
          "metadata": {}
        }
      ],
      "execution_count": 13,
      "metadata": {
        "collapsed": false
      }
    },
    {
      "cell_type": "code",
      "source": [
        "def class_code(type_str):\n",
        "    type_str = type_str.lower()\n",
        "    if 'armed' in type_str or 'attack' in type_str or 'conflict' in type_str:\n",
        "        return 1\n",
        "    elif 'disaster' in type_str or 'accident' in type_str:\n",
        "        return 2\n",
        "    elif 'law' in type_str or 'crime' in type_str:\n",
        "        return 3\n",
        "    elif 'politic' in type_str or 'election' in type_str:\n",
        "        return 4\n",
        "    elif 'international' in type_str or 'relation' in type_str:\n",
        "        return 5\n",
        "    elif 'science' in type_str or 'technology' in type_str:\n",
        "        return 6\n",
        "    elif 'business' in type_str or 'econom' in type_str:\n",
        "        return 7\n",
        "    elif 'art' in type_str or 'culture' in type_str:\n",
        "        return 8\n",
        "    elif 'sport' in type_str:\n",
        "        return 9\n",
        "    elif 'health' in type_str or 'environment' in type_str:\n",
        "        return 10\n",
        "    else:\n",
        "        return 0"
      ],
      "outputs": [],
      "execution_count": 14,
      "metadata": {
        "collapsed": true
      }
    },
    {
      "cell_type": "code",
      "source": [
        "df_events['class_code'] = df_events['class'].apply(class_code)"
      ],
      "outputs": [],
      "execution_count": 15,
      "metadata": {
        "collapsed": true
      }
    },
    {
      "cell_type": "code",
      "source": [
        "df_events.head()"
      ],
      "outputs": [
        {
          "output_type": "execute_result",
          "execution_count": 16,
          "data": {
            "text/html": [
              "<div>\n",
              "<table border=\"1\" class=\"dataframe\">\n",
              "  <thead>\n",
              "    <tr style=\"text-align: right;\">\n",
              "      <th></th>\n",
              "      <th>class</th>\n",
              "      <th>date</th>\n",
              "      <th>description</th>\n",
              "      <th>id</th>\n",
              "      <th>title</th>\n",
              "      <th>class_code</th>\n",
              "    </tr>\n",
              "  </thead>\n",
              "  <tbody>\n",
              "    <tr>\n",
              "      <th>0</th>\n",
              "      <td>Armed conflicts and attacks</td>\n",
              "      <td>2010-07-01</td>\n",
              "      <td>In response to a rocket attack on southern Isr...</td>\n",
              "      <td>59fbc9fa60b18848c5a4ce5a</td>\n",
              "      <td>Israeli-Palestinian conflict</td>\n",
              "      <td>1</td>\n",
              "    </tr>\n",
              "    <tr>\n",
              "      <th>1</th>\n",
              "      <td>Armed conflicts and attacks</td>\n",
              "      <td>2010-07-01</td>\n",
              "      <td>11 Kurdish, a soldier and three members of a K...</td>\n",
              "      <td>59fbc9fa60b18848c5a4ce5b</td>\n",
              "      <td></td>\n",
              "      <td>1</td>\n",
              "    </tr>\n",
              "    <tr>\n",
              "      <th>2</th>\n",
              "      <td>Armed conflicts and attacks</td>\n",
              "      <td>2010-07-01</td>\n",
              "      <td>At least 42 people are killed and at least 175...</td>\n",
              "      <td>59fbc9fa60b18848c5a4ce5c</td>\n",
              "      <td></td>\n",
              "      <td>1</td>\n",
              "    </tr>\n",
              "    <tr>\n",
              "      <th>3</th>\n",
              "      <td>Armed conflicts and attacks</td>\n",
              "      <td>2010-07-01</td>\n",
              "      <td>Somali President Sharif Ahmed joins Somali tro...</td>\n",
              "      <td>59fbc9fa60b18848c5a4ce5d</td>\n",
              "      <td></td>\n",
              "      <td>1</td>\n",
              "    </tr>\n",
              "    <tr>\n",
              "      <th>4</th>\n",
              "      <td>Arts and culture</td>\n",
              "      <td>2010-07-01</td>\n",
              "      <td>People take to the streets in Ottawa to celebr...</td>\n",
              "      <td>59fbc9fa60b18848c5a4ce5f</td>\n",
              "      <td></td>\n",
              "      <td>8</td>\n",
              "    </tr>\n",
              "  </tbody>\n",
              "</table>\n",
              "</div>"
            ],
            "text/plain": [
              "                         class        date  \\\n",
              "0  Armed conflicts and attacks  2010-07-01   \n",
              "1  Armed conflicts and attacks  2010-07-01   \n",
              "2  Armed conflicts and attacks  2010-07-01   \n",
              "3  Armed conflicts and attacks  2010-07-01   \n",
              "4             Arts and culture  2010-07-01   \n",
              "\n",
              "                                         description  \\\n",
              "0  In response to a rocket attack on southern Isr...   \n",
              "1  11 Kurdish, a soldier and three members of a K...   \n",
              "2  At least 42 people are killed and at least 175...   \n",
              "3  Somali President Sharif Ahmed joins Somali tro...   \n",
              "4  People take to the streets in Ottawa to celebr...   \n",
              "\n",
              "                         id                         title  class_code  \n",
              "0  59fbc9fa60b18848c5a4ce5a  Israeli-Palestinian conflict           1  \n",
              "1  59fbc9fa60b18848c5a4ce5b                                         1  \n",
              "2  59fbc9fa60b18848c5a4ce5c                                         1  \n",
              "3  59fbc9fa60b18848c5a4ce5d                                         1  \n",
              "4  59fbc9fa60b18848c5a4ce5f                                         8  "
            ]
          },
          "metadata": {}
        }
      ],
      "execution_count": 16,
      "metadata": {
        "collapsed": false
      }
    },
    {
      "cell_type": "code",
      "source": [
        "def description_clean(description):\n",
        "    description = description.split('. (')[0]+'.'\n",
        "    return description"
      ],
      "outputs": [],
      "execution_count": 17,
      "metadata": {
        "collapsed": true
      }
    },
    {
      "cell_type": "code",
      "source": [
        "df_events['des_clean'] = df_events['description'].apply(description_clean)"
      ],
      "outputs": [],
      "execution_count": 18,
      "metadata": {
        "collapsed": true
      }
    },
    {
      "cell_type": "raw",
      "source": [
        "def efitf(X):\n",
        "    count = CountVectorizer(stop_words='english')\n",
        "    X_train_count = count.fit_transform(X)\n",
        "    tfidf = TfidfTransformer(use_idf=True,smooth_idf=True,sublinear_tf=True)\n",
        "    X_train_tfidf = tfidf.fit_transform(X_train_count)\n",
        "    tf_feature_names = count.get_feature_names()\n",
        "    X_train_tfidf = [list(i) for i in list(X_train_tfidf.toarray())]\n",
        "    EFITF = defaultdict(dict)\n",
        "    for Type,values in enumerate(X_train_tfidf):\n",
        "        for index,value in enumerate(values):\n",
        "            if value > 0.0:\n",
        "                EFITF[Type].update({tf_feature_names[index]:value}) \n",
        "    return EFITF"
      ],
      "metadata": {
        "collapsed": true
      }
    },
    {
      "cell_type": "raw",
      "source": [
        "X = []"
      ],
      "metadata": {
        "collapsed": true
      }
    },
    {
      "cell_type": "raw",
      "source": [
        "X = df_events['des_clean'].tolist()"
      ],
      "metadata": {
        "collapsed": true
      }
    },
    {
      "cell_type": "raw",
      "source": [
        "EFITF = efitf(X)"
      ],
      "metadata": {
        "collapsed": false
      }
    },
    {
      "cell_type": "code",
      "source": [
        "def class_similarity(class_text,span):\n",
        "    return nlp(class_text).similarity(nlp(span))"
      ],
      "outputs": [],
      "execution_count": 23,
      "metadata": {
        "collapsed": true
      }
    },
    {
      "cell_type": "code",
      "source": [
        "def get_query(doc,class_text,doc_index,doc_date):\n",
        "    doc_date = datetime.strptime(doc_date,'%Y-%m-%d')\n",
        "    date_0 = doc_date.strftime('%Y-%m-%d')\n",
        "    date_0_ = (doc_date+timedelta(days=-3)).strftime('%Y-%m-%d')\n",
        "    date_1 = (doc_date+timedelta(days=1)).strftime('%Y-%m-%d')\n",
        "    date_1_ = date_0\n",
        "    doc = nlp(doc)\n",
        "    kws = []\n",
        "    for i in doc.ents:\n",
        "        kws.append(i.text)\n",
        "    triggers = []\n",
        "    for token in doc:\n",
        "        if not token.is_stop and token.tag_.startswith('V'):\n",
        "            if token.text.lower() not in list_stopWords:\n",
        "                triggers.append((token.text,token.tag_,str(class_similarity(class_text,token.text))))\n",
        "    triggers = sorted(triggers,key=lambda x:x[2],reverse=True)[:3]\n",
        "    for i in triggers:\n",
        "        kws.append(i[0])\n",
        "    noun_chunks = []\n",
        "    for i in doc.noun_chunks:\n",
        "        noun_chunks.append((i.text,str(class_similarity(class_text,i.text))))\n",
        "    try:\n",
        "        kws.append(sorted(noun_chunks,key=lambda x:x[1],reverse=True)[0][0].split(' ')[-1])\n",
        "    except:\n",
        "        pass\n",
        "    kws = [w for w in kws if not w in list_stopWords]\n",
        "    kws = list(set(kws))\n",
        "    query = [i for i in itertools.combinations(kws,2)]\n",
        "    query = ['\"'+i[0]+'\"'+' '+'\"'+i[1]+'\"'+' '+'since:'+date_0_+' '+'until:'+date_0 for i in query]+['\"'+i[0]+'\"'+' '+'\"'+i[1]+'\"'+' '+'since:'+date_1_+' '+'until:'+date_1 for i in query]\n",
        "    print(query)\n",
        "    return query"
      ],
      "outputs": [],
      "execution_count": 27,
      "metadata": {
        "collapsed": true
      }
    },
    {
      "cell_type": "code",
      "source": [
        "queries = []"
      ],
      "outputs": [],
      "execution_count": 28,
      "metadata": {
        "collapsed": true
      }
    },
    {
      "cell_type": "code",
      "source": [
        "for event in df_events.iterrows():\n",
        "    doc_index = event[0]\n",
        "    doc_date = event[1]['date']\n",
        "    doc_class = event[1]['class']\n",
        "    doc_title = event[1]['title']\n",
        "    doc = event[1]['des_clean']\n",
        "    class_text = doc_class.replace('and','')\n",
        "    query = get_query(doc,class_text,doc_index,doc_date)\n",
        "    queries.append(query)"
      ],
      "outputs": [],
      "execution_count": null,
      "metadata": {
        "collapsed": false
      }
    },
    {
      "cell_type": "code",
      "source": [
        "query = db.current_event.find({},{'_id':1})\n",
        "ids = []\n",
        "for i in query:\n",
        "    ids.append(i['_id'])"
      ],
      "outputs": [],
      "execution_count": null,
      "metadata": {
        "collapsed": true
      }
    },
    {
      "cell_type": "code",
      "source": [
        "requests = [UpdateOne({'_id': _id}, {'$set': {'queries':queries[index]}}) for index,_id in tqdm(enumerate(ids))]\n",
        "try:\n",
        "    result = db.current_event.bulk_write(requests)\n",
        "    pprint(result.bulk_api_result)\n",
        "except BulkWriteError as bwe:\n",
        "    pprint(bwe.details)"
      ],
      "outputs": [],
      "execution_count": null,
      "metadata": {
        "collapsed": true
      }
    },
    {
      "cell_type": "code",
      "source": [],
      "outputs": [],
      "execution_count": null,
      "metadata": {
        "collapsed": true
      }
    }
  ],
  "metadata": {
    "kernelspec": {
      "display_name": "Python 3",
      "language": "python",
      "name": "python3"
    },
    "language_info": {
      "codemirror_mode": {
        "name": "ipython",
        "version": 3
      },
      "file_extension": ".py",
      "mimetype": "text/x-python",
      "name": "python",
      "nbconvert_exporter": "python",
      "pygments_lexer": "ipython3",
      "version": "3.6.0"
    },
    "nteract": {
      "version": "0.2.0"
    }
  },
  "nbformat": 4,
  "nbformat_minor": 2
}